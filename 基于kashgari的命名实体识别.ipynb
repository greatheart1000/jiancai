{
 "cells": [
  {
   "cell_type": "markdown",
   "metadata": {},
   "source": [
    "## 基于kashgari的命名实体识别"
   ]
  },
  {
   "cell_type": "markdown",
   "metadata": {},
   "source": [
    "### 安装"
   ]
  },
  {
   "cell_type": "markdown",
   "metadata": {},
   "source": [
    "前置准备\n",
    "gensim--3.8.1  \n",
    "tensorflow--2.2.0           \n",
    "tensorflow-addons--0.9.1  \n",
    "scikit-learn--0.21.1 \n",
    "python-- 3.7.1   \n",
    "pandas--1.2.0 \n",
    "\n",
    "Kashgari 2.x 安装\n",
    "通过 github 压缩包下载安装 https://github.com/BrikerMan/Kashgari "
   ]
  },
  {
   "cell_type": "markdown",
   "metadata": {},
   "source": [
    "### 准备工作"
   ]
  },
  {
   "cell_type": "markdown",
   "metadata": {},
   "source": [
    "加载人民日报标注数据"
   ]
  },
  {
   "cell_type": "code",
   "execution_count": 1,
   "metadata": {},
   "outputs": [],
   "source": [
    "from kashgari.corpus import ChineseDailyNerCorpus"
   ]
  },
  {
   "cell_type": "code",
   "execution_count": 2,
   "metadata": {},
   "outputs": [
    {
     "name": "stderr",
     "output_type": "stream",
     "text": [
      "2021-01-19 10:38:02,586 [DEBUG] kashgari - loaded 20864 samples from C:\\Users\\DELL\\.kashgari\\datasets\\china-people-daily-ner-corpus\\example.train. Sample:\n",
      "x[0]: ['“', '文', '革', '”', '中', '《', '战', '争', '和', '人', '》', '一', '百', '二', '十', '万', '字', '的', '第', '一', '稿', '被', '毁', '，', '文', '革', '后', '五', '十', '五', '岁', '时', '提', '笔', '重', '写', '，', '创', '作', '第', '二', '部', '过', '程', '中', '患', '严', '重', '脑', '震', '荡', '，', '一', '只', '眼', '睛', '失', '明', '…', '…', '这', '一', '切', '仅', '只', '是', '创', '作', '过', '程', '中', '能', '说', '得', '出', '“', '名', '目', '”', '的', '代', '价', '和', '付', '出', '。']\n",
      "y[0]: ['O', 'O', 'O', 'O', 'O', 'O', 'O', 'O', 'O', 'O', 'O', 'O', 'O', 'O', 'O', 'O', 'O', 'O', 'O', 'O', 'O', 'O', 'O', 'O', 'O', 'O', 'O', 'O', 'O', 'O', 'O', 'O', 'O', 'O', 'O', 'O', 'O', 'O', 'O', 'O', 'O', 'O', 'O', 'O', 'O', 'O', 'O', 'O', 'O', 'O', 'O', 'O', 'O', 'O', 'O', 'O', 'O', 'O', 'O', 'O', 'O', 'O', 'O', 'O', 'O', 'O', 'O', 'O', 'O', 'O', 'O', 'O', 'O', 'O', 'O', 'O', 'O', 'O', 'O', 'O', 'O', 'O', 'O', 'O', 'O', 'O']\n",
      "2021-01-19 10:38:02,659 [DEBUG] kashgari - loaded 2318 samples from C:\\Users\\DELL\\.kashgari\\datasets\\china-people-daily-ner-corpus\\example.dev. Sample:\n",
      "x[0]: ['比', '如', '，', '领', '导', '干', '部', '喜', '欢', '学', '习', '，', '单', '位', '就', '会', '学', '习', '成', '风', '。']\n",
      "y[0]: ['O', 'O', 'O', 'O', 'O', 'O', 'O', 'O', 'O', 'O', 'O', 'O', 'O', 'O', 'O', 'O', 'O', 'O', 'O', 'O', 'O']\n",
      "2021-01-19 10:38:02,773 [DEBUG] kashgari - loaded 4636 samples from C:\\Users\\DELL\\.kashgari\\datasets\\china-people-daily-ner-corpus\\example.test. Sample:\n",
      "x[0]: ['谁', '知', '她', '不', '假', '思', '索', '地', '说', '：', '像', '枝', '干', '支', '撑', '的', '玫', '瑰', '盆', '景', '！']\n",
      "y[0]: ['O', 'O', 'O', 'O', 'O', 'O', 'O', 'O', 'O', 'O', 'O', 'O', 'O', 'O', 'O', 'O', 'O', 'O', 'O', 'O', 'O']\n"
     ]
    }
   ],
   "source": [
    "train_x, train_y = ChineseDailyNerCorpus.load_data('train')\n",
    "valid_x, valid_y = ChineseDailyNerCorpus.load_data('valid')\n",
    "test_x, test_y = ChineseDailyNerCorpus.load_data('test')"
   ]
  },
  {
   "cell_type": "code",
   "execution_count": 3,
   "metadata": {},
   "outputs": [
    {
     "name": "stdout",
     "output_type": "stream",
     "text": [
      "20864 2318 4636\n"
     ]
    }
   ],
   "source": [
    "print(len(train_x),len(valid_x),len(test_x))"
   ]
  },
  {
   "cell_type": "code",
   "execution_count": 11,
   "metadata": {},
   "outputs": [
    {
     "data": {
      "text/plain": [
       "(['最',\n",
       "  '终',\n",
       "  '，',\n",
       "  '全',\n",
       "  '国',\n",
       "  '2',\n",
       "  '3',\n",
       "  '个',\n",
       "  '选',\n",
       "  '区',\n",
       "  '将',\n",
       "  '产',\n",
       "  '生',\n",
       "  '1',\n",
       "  '2',\n",
       "  '2',\n",
       "  '名',\n",
       "  '国',\n",
       "  '民',\n",
       "  '议',\n",
       "  '会',\n",
       "  '议',\n",
       "  '员',\n",
       "  '。'],\n",
       " ['O',\n",
       "  'O',\n",
       "  'O',\n",
       "  'O',\n",
       "  'O',\n",
       "  'O',\n",
       "  'O',\n",
       "  'O',\n",
       "  'O',\n",
       "  'O',\n",
       "  'O',\n",
       "  'O',\n",
       "  'O',\n",
       "  'O',\n",
       "  'O',\n",
       "  'O',\n",
       "  'O',\n",
       "  'B-ORG',\n",
       "  'I-ORG',\n",
       "  'I-ORG',\n",
       "  'I-ORG',\n",
       "  'O',\n",
       "  'O',\n",
       "  'O'])"
      ]
     },
     "execution_count": 11,
     "metadata": {},
     "output_type": "execute_result"
    }
   ],
   "source": [
    "train_x[6],train_y[6]"
   ]
  },
  {
   "cell_type": "markdown",
   "metadata": {},
   "source": [
    "多种词向量选择："
   ]
  },
  {
   "cell_type": "markdown",
   "metadata": {},
   "source": [
    "- BertEmbedding\n",
    "- WordEmbedding \n",
    "- GPT2Embedding"
   ]
  },
  {
   "cell_type": "code",
   "execution_count": 12,
   "metadata": {},
   "outputs": [
    {
     "name": "stderr",
     "output_type": "stream",
     "text": [
      "2021-01-19 10:42:06,626 [DEBUG] kashgari - ------------------------------------------------\n",
      "2021-01-19 10:42:06,627 [DEBUG] kashgari - Loaded transformer model's vocab\n",
      "2021-01-19 10:42:06,627 [DEBUG] kashgari - config_path       : chinese_L-12_H-768_A-12\\bert_config.json\n",
      "2021-01-19 10:42:06,629 [DEBUG] kashgari - vocab_path      : chinese_L-12_H-768_A-12\\vocab.txt\n",
      "2021-01-19 10:42:06,629 [DEBUG] kashgari - checkpoint_path : chinese_L-12_H-768_A-12\\bert_model.ckpt\n",
      "2021-01-19 10:42:06,630 [DEBUG] kashgari - Top 50 words    : ['[PAD]', '[unused1]', '[unused2]', '[unused3]', '[unused4]', '[unused5]', '[unused6]', '[unused7]', '[unused8]', '[unused9]', '[unused10]', '[unused11]', '[unused12]', '[unused13]', '[unused14]', '[unused15]', '[unused16]', '[unused17]', '[unused18]', '[unused19]', '[unused20]', '[unused21]', '[unused22]', '[unused23]', '[unused24]', '[unused25]', '[unused26]', '[unused27]', '[unused28]', '[unused29]', '[unused30]', '[unused31]', '[unused32]', '[unused33]', '[unused34]', '[unused35]', '[unused36]', '[unused37]', '[unused38]', '[unused39]', '[unused40]', '[unused41]', '[unused42]', '[unused43]', '[unused44]', '[unused45]', '[unused46]', '[unused47]', '[unused48]', '[unused49]']\n",
      "2021-01-19 10:42:06,630 [DEBUG] kashgari - ------------------------------------------------\n"
     ]
    }
   ],
   "source": [
    "from kashgari.embeddings import BertEmbedding\n",
    "\n",
    "bert_embed = BertEmbedding('chinese_L-12_H-768_A-12')"
   ]
  },
  {
   "cell_type": "markdown",
   "metadata": {},
   "source": [
    "可选模型："
   ]
  },
  {
   "cell_type": "markdown",
   "metadata": {},
   "source": [
    "- CNN_LSTM_Model\n",
    "- BiLSTM_Model\n",
    "- BiGRU_Model\n",
    "- BiGRU_CRF_Model"
   ]
  },
  {
   "cell_type": "code",
   "execution_count": 15,
   "metadata": {},
   "outputs": [],
   "source": [
    "from kashgari.tasks.labeling import BiLSTM_CRF_Model\n",
    "\n",
    "ner_model = BiLSTM_CRF_Model(bert_embed,sequence_length=20)"
   ]
  },
  {
   "cell_type": "markdown",
   "metadata": {},
   "source": [
    " ```get_default_hyper_parameters()``` "
   ]
  },
  {
   "cell_type": "markdown",
   "metadata": {},
   "source": [
    "```python\n",
    "hyper = BiLSTM_CRF_Model.default_hyper_parameters()\n",
    "print(hyper)\n",
    "#{'layer_blstm': {'units': 128, 'return_sequences': True}, 'layer_dropout': {'rate': 0.4}, 'layer_time_distributed': {}, #'layer_activation': {'activation': 'softmax'}}\n",
    "hyper[\"layer_blstm\"][\"units\"] = 100 # 修改参数\n",
    "ner_model = BiLSTM_CRF_Model(bert_embed,sequence_length=20,hyper_parameters=hyper)\n",
    "```"
   ]
  },
  {
   "cell_type": "markdown",
   "metadata": {},
   "source": [
    "模型训练"
   ]
  },
  {
   "cell_type": "code",
   "execution_count": 16,
   "metadata": {},
   "outputs": [
    {
     "name": "stderr",
     "output_type": "stream",
     "text": [
      "Preparing text vocab dict: 100%|█████████████████████████████████████████████████████████████████████████████████████████████████████████████████████████████████████████████████████████████| 20864/20864 [00:00<00:00, 125242.53it/s]\n",
      "Preparing text vocab dict: 100%|███████████████████████████████████████████████████████████████████████████████████████████████████████████████████████████████████████████████████████████████| 2318/2318 [00:00<00:00, 129117.21it/s]\n",
      "2021-01-19 10:47:35,728 [DEBUG] kashgari - --- Build vocab dict finished, Total: 3500 ---\n",
      "2021-01-19 10:47:35,729 [DEBUG] kashgari - Top-10: ['[PAD]', '[UNK]', '[CLS]', '[SEP]', '，', '的', '。', '国', '一', '、']\n",
      "Preparing text vocab dict: 100%|█████████████████████████████████████████████████████████████████████████████████████████████████████████████████████████████████████████████████████████████| 20864/20864 [00:00<00:00, 188420.37it/s]\n",
      "Preparing text vocab dict: 100%|███████████████████████████████████████████████████████████████████████████████████████████████████████████████████████████████████████████████████████████████| 2318/2318 [00:00<00:00, 165899.88it/s]\n",
      "2021-01-19 10:47:35,856 [DEBUG] kashgari - --- Build vocab dict finished, Total: 8 ---\n",
      "2021-01-19 10:47:35,857 [DEBUG] kashgari - Top-10: ['[PAD]', 'O', 'I-ORG', 'I-LOC', 'B-LOC', 'I-PER', 'B-ORG', 'B-PER']\n",
      "2021-01-19 10:47:40,662 [DEBUG] kashgari - fit input shape: (2, 8, 20)\n",
      "2021-01-19 10:47:40,663 [DEBUG] kashgari - fit input shape: (8, 20)\n"
     ]
    },
    {
     "name": "stdout",
     "output_type": "stream",
     "text": [
      "Epoch 1/5\n",
      "2608/2608 [==============================] - 518s 199ms/step - loss: 2.0128 - accuracy: 0.9627 - val_loss: 16.3738 - val_accuracy: 0.9797\n",
      "Epoch 2/5\n",
      "2608/2608 [==============================] - 512s 196ms/step - loss: 0.8071 - accuracy: 0.9775 - val_loss: 11.8641 - val_accuracy: 0.9784\n",
      "Epoch 3/5\n",
      "2608/2608 [==============================] - 512s 196ms/step - loss: 0.6166 - accuracy: 0.9794 - val_loss: 9.8969 - val_accuracy: 0.9773\n",
      "Epoch 4/5\n",
      "2608/2608 [==============================] - 506s 194ms/step - loss: 0.4978 - accuracy: 0.9822 - val_loss: 9.0293 - val_accuracy: 0.9711\n",
      "Epoch 5/5\n",
      "2608/2608 [==============================] - 520s 199ms/step - loss: 0.4395 - accuracy: 0.9834 - val_loss: 8.3559 - val_accuracy: 0.9714\n"
     ]
    },
    {
     "data": {
      "text/plain": [
       "<tensorflow.python.keras.callbacks.History at 0x211066db940>"
      ]
     },
     "execution_count": 16,
     "metadata": {},
     "output_type": "execute_result"
    }
   ],
   "source": [
    "ner_model.fit(train_x,\n",
    "          train_y,\n",
    "          x_validate=valid_x,   \n",
    "          y_validate=valid_y,\n",
    "          epochs=5, batch_size=8)"
   ]
  },
  {
   "cell_type": "code",
   "execution_count": null,
   "metadata": {},
   "outputs": [],
   "source": [
    "验证模型，此方法将打印出详细的验证报告："
   ]
  },
  {
   "cell_type": "code",
   "execution_count": 21,
   "metadata": {},
   "outputs": [
    {
     "name": "stderr",
     "output_type": "stream",
     "text": [
      "2021-01-19 14:12:50,676 [DEBUG] kashgari - predict seq_length: 20, input: (2, 4636, 20)\n"
     ]
    },
    {
     "name": "stdout",
     "output_type": "stream",
     "text": [
      "145/145 [==============================] - 67s 465ms/step\n"
     ]
    },
    {
     "name": "stderr",
     "output_type": "stream",
     "text": [
      "2021-01-19 14:14:01,807 [DEBUG] kashgari - predict output: (4636, 20)\n",
      "2021-01-19 14:14:01,808 [DEBUG] kashgari - predict output argmax: [[0 1 1 ... 1 1 1]\n",
      " [0 1 1 ... 6 2 2]\n",
      " [0 1 1 ... 1 1 1]\n",
      " ...\n",
      " [0 1 1 ... 1 1 1]\n",
      " [0 6 2 ... 1 0 1]\n",
      " [0 6 2 ... 1 1 1]]\n"
     ]
    },
    {
     "name": "stdout",
     "output_type": "stream",
     "text": [
      "\n",
      "           precision    recall  f1-score   support\n",
      "\n",
      "      ORG     0.8962    0.8151    0.8537      1271\n",
      "      LOC     0.9014    0.9087    0.9051      1862\n",
      "      PER     0.9742    0.9601    0.9671      1103\n",
      "\n",
      "micro avg     0.9192    0.8940    0.9064      4236\n",
      "macro avg     0.9188    0.8940    0.9058      4236\n",
      "\n"
     ]
    },
    {
     "data": {
      "text/plain": [
       "{'detail': {'ORG': {'precision': 0.8961937716262975,\n",
       "   'recall': 0.8151062155782848,\n",
       "   'f1-score': 0.853728883395138,\n",
       "   'support': 1271},\n",
       "  'LOC': {'precision': 0.9014384656366542,\n",
       "   'recall': 0.9087003222341569,\n",
       "   'f1-score': 0.9050548274939824,\n",
       "   'support': 1862},\n",
       "  'PER': {'precision': 0.9742410303587856,\n",
       "   'recall': 0.9601087941976428,\n",
       "   'f1-score': 0.9671232876712328,\n",
       "   'support': 1103}},\n",
       " 'precision': 0.9188216627096825,\n",
       " 'recall': 0.8940037771482531,\n",
       " 'f1-score': 0.9058164508711958,\n",
       " 'support': 4236}"
      ]
     },
     "execution_count": 21,
     "metadata": {},
     "output_type": "execute_result"
    }
   ],
   "source": [
    "ner_model.evaluate(test_x, test_y,truncating=True)"
   ]
  },
  {
   "cell_type": "markdown",
   "metadata": {},
   "source": [
    "模型保存："
   ]
  },
  {
   "cell_type": "code",
   "execution_count": 22,
   "metadata": {},
   "outputs": [
    {
     "name": "stderr",
     "output_type": "stream",
     "text": [
      "2021-01-19 14:17:00,648 [INFO] kashgari - model saved to D:\\ProgrammeWork\\practice\\WorkOrderBot_rasa\\ner.h5\n"
     ]
    },
    {
     "data": {
      "text/plain": [
       "'D:\\\\ProgrammeWork\\\\practice\\\\WorkOrderBot_rasa\\\\ner.h5'"
      ]
     },
     "execution_count": 22,
     "metadata": {},
     "output_type": "execute_result"
    }
   ],
   "source": [
    "ner_model.save('ner.h5')"
   ]
  },
  {
   "cell_type": "markdown",
   "metadata": {},
   "source": [
    "h5 文件是层次数据格式第 5 代的版本（Hierarchical Data Format，HDF5），它是用于存储科学数据的一种文件格式和库文件，由美国超级计算与应用中心研发的文件格式，用以存储和组织大规模数据。目前由非营利组织 HDF 小组提供支持。h5 文件将包含：\n",
    "- 模型的结构，以便重构该模型\n",
    "- 模型的权重\n",
    "- 训练配置（损失函数，优化器等）\n",
    "- 优化器的状态，以便于从上次训练中断的地方开始"
   ]
  },
  {
   "cell_type": "markdown",
   "metadata": {},
   "source": [
    "对新输入进行预测："
   ]
  },
  {
   "cell_type": "code",
   "execution_count": 26,
   "metadata": {},
   "outputs": [],
   "source": [
    "def ner_predict(input_sen,model):\n",
    "    ners = model.predict([[char for char in input_sen]])\n",
    "    return ners"
   ]
  },
  {
   "cell_type": "code",
   "execution_count": 28,
   "metadata": {},
   "outputs": [
    {
     "name": "stderr",
     "output_type": "stream",
     "text": [
      "d:\\anaconda\\envs\\kashgari_py3.7\\lib\\site-packages\\ipykernel_launcher.py:2: DeprecationWarning: The 'load_model' function is deprecated, use 'XX_Model.load_model' instead\n",
      "  \n",
      "2021-01-19 14:24:03,484 [DEBUG] kashgari - ------------------------------------------------\n",
      "2021-01-19 14:24:03,484 [DEBUG] kashgari - Loaded transformer model's vocab\n",
      "2021-01-19 14:24:03,485 [DEBUG] kashgari - config_path       : chinese_L-12_H-768_A-12\\bert_config.json\n",
      "2021-01-19 14:24:03,486 [DEBUG] kashgari - vocab_path      : chinese_L-12_H-768_A-12\\vocab.txt\n",
      "2021-01-19 14:24:03,486 [DEBUG] kashgari - checkpoint_path : chinese_L-12_H-768_A-12\\bert_model.ckpt\n",
      "2021-01-19 14:24:03,486 [DEBUG] kashgari - Top 50 words    : ['[PAD]', '[unused1]', '[unused2]', '[unused3]', '[unused4]', '[unused5]', '[unused6]', '[unused7]', '[unused8]', '[unused9]', '[unused10]', '[unused11]', '[unused12]', '[unused13]', '[unused14]', '[unused15]', '[unused16]', '[unused17]', '[unused18]', '[unused19]', '[unused20]', '[unused21]', '[unused22]', '[unused23]', '[unused24]', '[unused25]', '[unused26]', '[unused27]', '[unused28]', '[unused29]', '[unused30]', '[unused31]', '[unused32]', '[unused33]', '[unused34]', '[unused35]', '[unused36]', '[unused37]', '[unused38]', '[unused39]', '[unused40]', '[unused41]', '[unused42]', '[unused43]', '[unused44]', '[unused45]', '[unused46]', '[unused47]', '[unused48]', '[unused49]']\n",
      "2021-01-19 14:24:03,487 [DEBUG] kashgari - ------------------------------------------------\n",
      "2021-01-19 14:24:09,202 [WARNING] kashgari - Sequence length is None, will use the max length of the samples, which is 12\n",
      "2021-01-19 14:24:09,203 [DEBUG] kashgari - predict seq_length: None, input: (2, 1, 12)\n"
     ]
    },
    {
     "name": "stdout",
     "output_type": "stream",
     "text": [
      "1/1 [==============================] - 0s 998us/step\n"
     ]
    },
    {
     "name": "stderr",
     "output_type": "stream",
     "text": [
      "2021-01-19 14:24:12,416 [DEBUG] kashgari - predict output: (1, 12)\n",
      "2021-01-19 14:24:12,417 [DEBUG] kashgari - predict output argmax: [[0 6 2 2 1 1 1 1 1 1 1 0]]\n"
     ]
    },
    {
     "data": {
      "text/plain": [
       "[['B-ORG', 'I-ORG', 'I-ORG', 'O', 'O', 'O', 'O', 'O', 'O', 'O']]"
      ]
     },
     "execution_count": 28,
     "metadata": {},
     "output_type": "execute_result"
    }
   ],
   "source": [
    "import kashgari\n",
    "loaded_model = kashgari.utils.load_model('ner.h5')\n",
    "input_sen = \"新华社是个不错的单位\"\n",
    "ners = ner_predict(input_sen,loaded_model)\n",
    "ners"
   ]
  },
  {
   "cell_type": "code",
   "execution_count": null,
   "metadata": {},
   "outputs": [],
   "source": []
  }
 ],
 "metadata": {
  "kernelspec": {
   "display_name": "Python 3",
   "language": "python",
   "name": "python3"
  },
  "language_info": {
   "codemirror_mode": {
    "name": "ipython",
    "version": 3
   },
   "file_extension": ".py",
   "mimetype": "text/x-python",
   "name": "python",
   "nbconvert_exporter": "python",
   "pygments_lexer": "ipython3",
   "version": "3.7.6"
  }
 },
 "nbformat": 4,
 "nbformat_minor": 5
}
